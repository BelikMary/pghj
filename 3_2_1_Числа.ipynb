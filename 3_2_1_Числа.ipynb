{
  "nbformat": 4,
  "nbformat_minor": 0,
  "metadata": {
    "colab": {
      "name": "3.2.1. Числа.ipynb",
      "provenance": [],
      "collapsed_sections": [],
      "authorship_tag": "ABX9TyM1NBcgpL3KFa5URFCqjJur",
      "include_colab_link": true
    },
    "kernelspec": {
      "name": "python3",
      "display_name": "Python 3"
    },
    "language_info": {
      "name": "python"
    }
  },
  "cells": [
    {
      "cell_type": "markdown",
      "metadata": {
        "id": "view-in-github",
        "colab_type": "text"
      },
      "source": [
        "<a href=\"https://colab.research.google.com/github/BelikMary/pghj/blob/main/3_2_1_%D0%A7%D0%B8%D1%81%D0%BB%D0%B0.ipynb\" target=\"_parent\"><img src=\"https://colab.research.google.com/assets/colab-badge.svg\" alt=\"Open In Colab\"/></a>"
      ]
    },
    {
      "cell_type": "markdown",
      "metadata": {
        "id": "Ch1rGY-dQuUT"
      },
      "source": [
        "№ 3.2.1\n",
        "\n",
        "Составьте программу, которая запрашивает у пользователя 2 целых числа и выполняет операции:\n",
        "\n",
        "арифметические: +, -, * , / , // , %, **;\n",
        "\n",
        "сравнение: <, <=, >, >=, !=, ==,\n",
        "\n",
        "выводя на экран результат каждого действия. В случае получение вещественного результата, округлите его до 2-х знаков после запятой (используя функцию round())."
      ]
    },
    {
      "cell_type": "code",
      "metadata": {
        "colab": {
          "base_uri": "https://localhost:8080/"
        },
        "id": "wEioCXWEQilE",
        "outputId": "1c3a53a6-3762-401a-b21d-2965899399ed"
      },
      "source": [
        "# Программирование на языке высокого уровня (Python).\n",
        "# https://www.yuripetrov.ru/edu/python\n",
        "# Задание task_03_02_01.\n",
        "#\n",
        "# Выполнил: Белик М.К.\n",
        "# Группа: АДЭУ-211\n",
        "\n",
        "\n",
        "\n",
        "a = int(input(\"a=\"))\n",
        "b = int(input(\"b=\"))\n",
        "\n",
        "print(a + b)\n",
        "print(a - b)\n",
        "print(a * b)\n",
        "print(round(a / b,2))\n",
        "print(a // b)\n",
        "print(a % b)\n",
        "print(a ** b)\n",
        "print(a < b)\n",
        "print(a <= b)\n",
        "print(a > b)\n",
        "print(a >= b)\n",
        "print(a != b)\n",
        "print(a == b)\n",
        "\n",
        "# --------------\n",
        "# Пример вывода:\n",
        "#\n",
        "# a=2\n",
        "# b=3\n",
        "# 5\n",
        "# -1\n",
        "# 6\n",
        "# 0.67\n",
        "# 0\n",
        "# 2\n",
        "# 8\n",
        "# True\n",
        "# True\n",
        "# False\n",
        "# False\n",
        "# True\n",
        "# False\n"
      ],
      "execution_count": null,
      "outputs": [
        {
          "output_type": "stream",
          "name": "stdout",
          "text": [
            "a=2\n",
            "b=3\n",
            "5\n",
            "-1\n",
            "6\n",
            "0.67\n",
            "0\n",
            "2\n",
            "8\n",
            "True\n",
            "True\n",
            "False\n",
            "False\n",
            "True\n",
            "False\n"
          ]
        }
      ]
    },
    {
      "cell_type": "markdown",
      "metadata": {
        "id": "PdPirnSwTAjy"
      },
      "source": [
        "№ 3.2.2\n",
        "\n",
        "Вычислите значение следующего выражения (аргументы - целые числа и вводятся с клавиатуры):\n",
        "\n",
        "![Снимок.PNG](data:image/png;base64,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)\n",
        "Округлите результат до 3-х знаков после запятой, используя функцию round()."
      ]
    },
    {
      "cell_type": "code",
      "metadata": {
        "colab": {
          "base_uri": "https://localhost:8080/"
        },
        "id": "INYH-toYS5__",
        "outputId": "01c71538-b9ae-4697-84ad-7dc256de8f84"
      },
      "source": [
        "# Программирование на языке высокого уровня (Python).\n",
        "# https://www.yuripetrov.ru/edu/python\n",
        "# Задание task_03_02_02.\n",
        "#\n",
        "# Выполнил: Белик М.К.\n",
        "# Группа: АДЭУ-211\n",
        "\n",
        "\n",
        "\n",
        "x = int(input(\"x=\"))\n",
        "y = int(input(\"y=\"))\n",
        "z = int(input(\"z=\"))\n",
        "\n",
        "res = ((x**5+7)/(abs(-6)*y))**(1/3)/(7-(z % y))\n",
        "\n",
        "\n",
        "print(round(res,2))\n",
        "\n",
        "# --------------\n",
        "# Пример вывода:\n",
        "#\n",
        "# x=0\n",
        "# y=1\n",
        "# z=2\n",
        "# 0.15\n"
      ],
      "execution_count": null,
      "outputs": [
        {
          "output_type": "stream",
          "name": "stdout",
          "text": [
            "x=0\n",
            "y=1\n",
            "z=2\n",
            "0.15\n"
          ]
        }
      ]
    },
    {
      "cell_type": "markdown",
      "metadata": {
        "id": "BazsJVF6XZdQ"
      },
      "source": [
        "№ 3.2.3\n",
        "\n",
        "Дана электрическая цепь, состоящая из 2-х последовательно соединенных проводников (сопротивление каждого известно). Найти общее сопротивление цепи (округление результата необходимо выполнить до 1-го знака после запятой).\n",
        "\n",
        "Решение (начало и общий ход мыслей):\n",
        "\n",
        "Аналитическое решение.\n",
        "\n",
        "Проводники соединены последовательно, поэтому общее сопротивление цепи будет равно сумме их сопротивлений. Сопротивление может быть вещественным числом, поэтому для его хранения необходимо выбрать тип float.\n",
        "\n",
        "Алгоритм.\n",
        "\n",
        "- ввести 2 вещественных значения - сопротивления проводников;\n",
        "- вычислить их сумму;\n",
        "- вывести ответ на экран.\n",
        "Программа.\n",
        "\n",
        "# здесь должна быть программа"
      ]
    },
    {
      "cell_type": "code",
      "metadata": {
        "colab": {
          "base_uri": "https://localhost:8080/"
        },
        "id": "0FKq19o8XQC1",
        "outputId": "4b6fbc5b-f193-465a-ae1f-5820e1b31d70"
      },
      "source": [
        "# Программирование на языке высокого уровня (Python).\n",
        "# https://www.yuripetrov.ru/edu/python\n",
        "# Задание task_03_02_03.\n",
        "#\n",
        "# Выполнил: Белик М.К.\n",
        "# Группа: АДЭУ-211\n",
        "\n",
        "\n",
        "\n",
        "# Сопротивление первого проводника\n",
        "r1 = float(input(\"r1=\"))\n",
        "# Сопротивление второго проводника\n",
        "r2 = float(input(\"r2=\"))\n",
        "\n",
        "# Общее сопротивление\n",
        "r = r1 + r2\n",
        "\n",
        "print(round(r,1))\n",
        "\n",
        "\n",
        "# --------------\n",
        "# Пример вывода:\n",
        "#\n",
        "# r1=12.2\n",
        "# r2=16.1\n",
        "# 28.3\n"
      ],
      "execution_count": null,
      "outputs": [
        {
          "output_type": "stream",
          "name": "stdout",
          "text": [
            "r1=12.2\n",
            "r2=16.1\n",
            "28.3\n"
          ]
        }
      ]
    },
    {
      "cell_type": "markdown",
      "metadata": {
        "id": "QMcNZSEMYVbm"
      },
      "source": [
        "№ 3.2.4\n",
        "\n",
        "Дано двузначное и трехзначное число. Для каждого выведите на экран сумму и произведение цифр."
      ]
    },
    {
      "cell_type": "code",
      "metadata": {
        "colab": {
          "base_uri": "https://localhost:8080/"
        },
        "id": "qmu5b6wMYUfP",
        "outputId": "a3ea29f1-29c5-41ff-f302-bdcc526d53db"
      },
      "source": [
        "# Программирование на языке высокого уровня (Python).\n",
        "# https://www.yuripetrov.ru/edu/python\n",
        "# Задание task_03_02_04.\n",
        "#\n",
        "# Выполнил: Белик М.К.\n",
        "# Группа: АДЭУ-211\n",
        "\n",
        "\n",
        "\n",
        "# Двузначное число\n",
        "num2 = int(input(\"num2=\"))\n",
        "# Трехзначное число\n",
        "num3 = int(input(\"num3=\"))\n",
        "\n",
        "# 1-я цифра числа 'num2'\n",
        "num2_1 = num2 // 10\n",
        "# 2-я цифра числа 'num2'\n",
        "num2_2 = num2 % 10\n",
        "\n",
        "# Сумма цифр числа 'num2'\n",
        "num2_s = num2_1 + num2_2\n",
        "# Произведение цифр числа 'num2'\n",
        "num2_p = num2_1 * num2_2\n",
        "\n",
        "# 1-я цифра числа 'num3'\n",
        "num3_1 = num3 // 100\n",
        "# 2-я цифра числа 'num3'\n",
        "num3_2 = (num3 % 100) // 10\n",
        "# 3-я цифра числа 'num3'\n",
        "num3_3 = num3 % 10\n",
        "\n",
        "# Сумма цифр числа 'num3'\n",
        "num3_s = num3_1 + num3_2 + num3_3\n",
        "# Произведение цифр числа 'num3'\n",
        "num3_p = num3_1 * num3_2 * num3_3\n",
        "\n",
        "print (num2_s,num2_p)\n",
        "print (num3_s,num3_p)\n",
        "\n",
        "\n",
        "# --------------\n",
        "# Пример вывода:\n",
        "#\n",
        "# Двузначное число: 45\n",
        "# Трехзначное число: 456\n",
        "# Сумма и произведение цифр двузначного числа: 9 20\n",
        "# Сумма и произведение цифр трехзначного числа: 15 120\n"
      ],
      "execution_count": null,
      "outputs": [
        {
          "output_type": "stream",
          "name": "stdout",
          "text": [
            "num2=45\n",
            "num3=456\n",
            "9 20\n",
            "15 120\n"
          ]
        }
      ]
    },
    {
      "cell_type": "markdown",
      "metadata": {
        "id": "0kagPMv5fHSb"
      },
      "source": [
        "№ 3.2.5\n",
        "\n",
        "С начала суток прошло m минут (0<m≤24∗60). Определите:\n",
        "\n",
        "целое количество часов, прошедших с начала суток;\n",
        "\n",
        "количество минут, прошедших с момента начала последнего часа."
      ]
    },
    {
      "cell_type": "code",
      "metadata": {
        "colab": {
          "base_uri": "https://localhost:8080/"
        },
        "id": "99CDNfSkfIsq",
        "outputId": "b5720e3f-6c2c-4d49-a46c-765d295ebc6a"
      },
      "source": [
        "# Программирование на языке высокого уровня (Python).\n",
        "# https://www.yuripetrov.ru/edu/python\n",
        "# Задание task_03_02_05.\n",
        "#\n",
        "# Выполнил: Белик М.К.\n",
        "# Группа: АДЭУ-211\n",
        "\n",
        "\n",
        "\n",
        "# Количество минут\n",
        "m = int(input(\"m=\"))\n",
        "\n",
        "# Количество часов, прошедших с начала суток\n",
        "h = m // 60\n",
        "# Количество минут, прошедших с момента начала последнего часа\n",
        "m2 = m % 60\n",
        "\n",
        "\n",
        "print(\"Количество часов, прошедших с начала суток:\", h)\n",
        "print(\"Количество минут, прошедших с момента начала последнего часа:\", m2)\n",
        "\n",
        "# --------------\n",
        "# Пример вывода:\n",
        "#\n",
        "# Количество минут, прошедшее с начала суток: 123\n",
        "# Количество часов, прошедших с начала суток: 2\n",
        "# Количество минут, прошедших с момента начала последнего часа: 3\n"
      ],
      "execution_count": null,
      "outputs": [
        {
          "output_type": "stream",
          "name": "stdout",
          "text": [
            "m=123\n",
            "Количество часов, прошедших с начала суток: 2\n",
            "Количество минут, прошедших с момента начала последнего часа: 3\n"
          ]
        }
      ]
    },
    {
      "cell_type": "markdown",
      "metadata": {
        "id": "LCiExD7Vgbju"
      },
      "source": [
        "№ 3.2.6\n",
        "\n",
        "Дано уравнение ax + b = 0 и отрезок [m;n]. Ответьте на вопрос, попадает ли решение уравнения в указанный отрезок.\n",
        "\n",
        "Решение (начало и общий ход мыслей):\n",
        "\n",
        "Аналитическое решение.\n",
        "\n",
        "Коэффициенты уравнения и величина отрезка - произвольны, возьмем целые числа. Решение x при этом может быть дробным. После определения x составим логическое выражение попадания в отрезок, что и будет ответом.\n",
        "\n",
        "Алгоритм.\n",
        "\n",
        "- ввести все неизвестные величины;\n",
        "- определить корень уравнения;\n",
        "- составить логическое выражение попадания корня в область;\n",
        "- вывести результат попадания на экран.\n",
        "Программа.\n",
        "\n",
        "# здесь должна быть программа"
      ]
    },
    {
      "cell_type": "code",
      "metadata": {
        "colab": {
          "base_uri": "https://localhost:8080/"
        },
        "id": "QKGzA6a3gfJ2",
        "outputId": "ce39a6f5-f2eb-43c1-ae02-4e96ab5f8522"
      },
      "source": [
        "# Программирование на языке высокого уровня (Python).\n",
        "# https://www.yuripetrov.ru/edu/python\n",
        "# Задание task_03_02_06.\n",
        "#\n",
        "# Выполнил: Белик М.К.\n",
        "# Группа: АДЭУ-211\n",
        "# E-mail: !!!\n",
        "\n",
        "\n",
        "a = int(input(\"a=\"))\n",
        "b = int(input(\"b=\"))\n",
        "m = int(input(\"m=\"))\n",
        "n = int(input(\"n=\"))\n",
        "\n",
        "x = -1 * (a / b)\n",
        "\n",
        "is_ok = m <= x <= n\n",
        "\n",
        "print(\"Попадает:\", is_ok)\n",
        "\n",
        "\n",
        "# --------------\n",
        "# Пример вывода:\n",
        "#\n",
        "# Введите a = 1\n",
        "# Введите b = 2\n",
        "# Введите m = -5\n",
        "# Введите n = 5\n",
        "# Попадает: True\n"
      ],
      "execution_count": null,
      "outputs": [
        {
          "output_type": "stream",
          "name": "stdout",
          "text": [
            "a=1\n",
            "b=2\n",
            "m=-5\n",
            "n=5\n",
            "Попадает: True\n"
          ]
        }
      ]
    }
  ]
}